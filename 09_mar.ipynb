{
 "cells": [
  {
   "cell_type": "markdown",
   "id": "cf497e82-1188-4cda-a26d-8e6342b8334d",
   "metadata": {},
   "source": [
    "Q1: What are the Probability Mass Function (PMF) and Probability Density Function (PDF)? Explain with\n",
    "an example."
   ]
  },
  {
   "cell_type": "markdown",
   "id": "2eadbb01-0965-4fb0-8324-fb914b9e1ce3",
   "metadata": {},
   "source": [
    "The Probability Mass Function (PMF) provides the probability distribution for discrete variables. For example, rolling dice. There are 6 distinct possible outcomes that define the entire sample space {1, 2, 3, 4, 5, 6}. In the PMF, each discrete variable is mapped to its probability1.\n",
    "\n",
    "The Probability Density Function (PDF) is used when there is a need to find a solution in a range of continuous random variables. The complete form of PDF is Probability Density Function. In PDF, our concentration is on the interval it is lying2."
   ]
  },
  {
   "cell_type": "markdown",
   "id": "b7632e63-fffe-44f4-b69b-02ca300d8739",
   "metadata": {},
   "source": []
  },
  {
   "cell_type": "code",
   "execution_count": null,
   "id": "d2bcf393-dc19-4f53-b4af-b27155bd0628",
   "metadata": {},
   "outputs": [],
   "source": []
  },
  {
   "cell_type": "markdown",
   "id": "e6dc3b05-9975-4c15-bca6-7f3e81f80943",
   "metadata": {},
   "source": [
    "Q2: What is Cumulative Density Function (CDF)? Explain with an example. Why CDF is used?"
   ]
  },
  {
   "cell_type": "markdown",
   "id": "3674686d-104b-4e5b-8963-cd2440b168b6",
   "metadata": {},
   "source": [
    "The Cumulative Density Function (CDF) is a statistical concept used to describe the probability distribution of a random variable. The CDF is a function that gives the probability that a random variable X is less than or equal to a certain value x.\n",
    "\n",
    "Mathematically, the CDF of a random variable X is defined as:\n",
    "\n",
    "F(x) = P(X ≤ x)\n",
    "\n",
    "where F(x) is the probability that X is less than or equal to x.\n",
    "\n",
    "For example, let's say we have a random variable X that represents the number of heads in two coin flips. The possible outcomes for this variable are 0, 1, or 2 heads"
   ]
  },
  {
   "cell_type": "code",
   "execution_count": null,
   "id": "f20674c7-4039-454b-a52f-164f44e5ff17",
   "metadata": {},
   "outputs": [],
   "source": []
  },
  {
   "cell_type": "markdown",
   "id": "ce9cab03-6889-41c9-abb9-41056232e2b1",
   "metadata": {},
   "source": [
    "Q3: What are some examples of situations where the normal distribution might be used as a model?\n",
    "Explain how the parameters of the normal distribution relate to the shape of the distribution."
   ]
  },
  {
   "cell_type": "markdown",
   "id": "157b846f-7a8f-44bc-94e5-483025303eb2",
   "metadata": {},
   "source": [
    "The normal distribution, also known as the Gaussian distribution, is a commonly used probability distribution in statistics. It is often used as a model for real-world situations that involve continuous random variables that are normally distributed. Some examples of situations where the normal distribution might be used as a model include:\n",
    "\n",
    "1)Heights of people in a population\n",
    "\n",
    "2)Weights of a product manufactured in a factory\n",
    "\n",
    "3)IQ scores of a group of people\n",
    "\n",
    "4)Blood pressure levels in a population\n",
    "\n",
    "5)Errors in measurements in a scientific experiment\n",
    "\n",
    "The normal distribution has two parameters: the mean (μ) and the standard deviation (σ). The mean represents the center of the distribution, and the standard deviation represents the spread of the distribution. The shape of the normal distribution is symmetric, with a bell-shaped curve that is peaked at the mean and tapers off towards the tails."
   ]
  },
  {
   "cell_type": "code",
   "execution_count": null,
   "id": "3d7ae845-928b-4a30-a295-7df1aec90bc3",
   "metadata": {},
   "outputs": [],
   "source": []
  },
  {
   "cell_type": "markdown",
   "id": "c78e4908-de8b-4527-aaa0-837c30894c21",
   "metadata": {},
   "source": [
    "Q4: Explain the importance of Normal Distribution. Give a few real-life examples of Normal\n",
    "Distribution."
   ]
  },
  {
   "cell_type": "markdown",
   "id": "883a6e58-03be-4901-8bda-85fa4b8a3a5b",
   "metadata": {},
   "source": [
    "Normal distribution, also known as Gaussian distribution, plays an important role in statistics and probability theory. It is a widely used probability distribution that can be used to model many natural phenomena, as well as random variables in various fields of science and engineering. Here are some reasons why the normal distribution is important:\n",
    "\n",
    "Many natural phenomena follow the normal distribution: Many natural phenomena, such as heights and weights of people, IQ scores, and blood pressure levels, are known to follow the normal distribution. By modeling these phenomena with the normal distribution, we can make predictions and draw conclusions about them.\n",
    "\n",
    "The central limit theorem: One of the fundamental theorems in statistics is the central limit theorem, which states that the sum or average of many independent random variables tends to follow the normal distribution. This theorem has many important applications in statistics, such as in hypothesis testing and confidence interval estimation.\n",
    "\n",
    "Data analysis: Normal distribution is often used in data analysis and statistical modeling. Many statistical techniques, such as regression analysis and hypothesis testing, assume that the data follow the normal distribution. By checking whether the data follow the normal distribution, we can determine whether these techniques are appropriate for the data.\n",
    "\n",
    "EXAMPLES\n",
    "\n",
    "1)IQ scores: IQ scores are known to follow the normal distribution, with a mean of 100 and a standard deviation of 15.\n",
    "\n",
    "2)Heights and weights of people: The heights and weights of people in a population also tend to follow the normal distribution.\n",
    "\n",
    "3)Test scores: In many standardized tests, such as the SAT and GRE, the scores are scaled to follow the normal distribution, with a mean of 500 and a standard deviation of 100."
   ]
  },
  {
   "cell_type": "code",
   "execution_count": null,
   "id": "42a53148-17d1-47e8-a50b-67798bf6f5e0",
   "metadata": {},
   "outputs": [],
   "source": []
  },
  {
   "cell_type": "markdown",
   "id": "c8bb5faa-b120-4e4f-b35c-0555476203e6",
   "metadata": {},
   "source": [
    "Q5: What is Bernaulli Distribution? Give an Example. What is the difference between Bernoulli\n",
    "Distribution and Binomial Distribution?"
   ]
  },
  {
   "cell_type": "markdown",
   "id": "c1c0076d-3998-490e-8cab-b491ed8ad95c",
   "metadata": {},
   "source": [
    "Bernoulli distribution is a discrete probability distribution that represents the outcome of a single binary experiment, where the outcome can either be a success or a failure. It is named after the Swiss mathematician Jacob Bernoulli, who introduced the concept in his book Ars Conjectandi in 1713. The Bernoulli distribution is characterized by a single parameter p, which represents the probability of success.\n",
    "\n",
    "An example of the Bernoulli distribution is the outcome of a single coin toss. If the probability of getting a heads is p, then the probability of getting a tails is 1-p. Thus, the Bernoulli distribution can be used to model the probability of getting a heads or a tails in a single coin toss.\n",
    "\n",
    "The difference between Bernoulli distribution and binomial distribution is that the Bernoulli distribution represents the outcome of a single binary experiment, while the binomial distribution represents the outcome of multiple independent Bernoulli trials. In other words, the binomial distribution is the sum of n independent and identically distributed Bernoulli trials, where n is a positive integer.\n",
    "\n"
   ]
  },
  {
   "cell_type": "code",
   "execution_count": null,
   "id": "4178b3eb-017f-40be-ab73-f0d8531226e2",
   "metadata": {},
   "outputs": [],
   "source": []
  },
  {
   "cell_type": "markdown",
   "id": "344afab3-faa4-4f7b-b62f-b7702ae337ea",
   "metadata": {},
   "source": [
    "Q6. Consider a dataset with a mean of 50 and a standard deviation of 10. If we assume that the dataset\n",
    "is normally distributed, what is the probability that a randomly selected observation will be greater\n",
    "than 60? Use the appropriate formula and show your calculations."
   ]
  },
  {
   "cell_type": "markdown",
   "id": "24c68b93-944b-4a98-8615-5f589f461208",
   "metadata": {},
   "source": [
    "To calculate the probability that a randomly selected observation from a normally distributed dataset with a mean of 50 and a standard deviation of 10 will be greater than 60, we need to use the standard normal distribution and the z-score formula.\n",
    "\n",
    "The z-score formula is:\n",
    "z = (x - μ) / σ\n",
    "\n",
    "z = (60 - 50) / 10\n",
    "z = 1\n",
    "\n",
    "Therefore, the probability of a z-score being greater than 1 is:\n",
    "P(z > 1) = 1 - P(z < 1) = 1 - 0.8413 = 0.1587\n",
    "\n",
    "So the probability that a randomly selected observation from a normally distributed dataset with a mean of 50 and a standard deviation of 10 will be greater than 60 is 0.1587 or approximately 15.87%.\n",
    "\n",
    "\n"
   ]
  },
  {
   "cell_type": "code",
   "execution_count": null,
   "id": "c95123a4-291e-4844-9fc5-2771f8511f11",
   "metadata": {},
   "outputs": [],
   "source": []
  },
  {
   "cell_type": "markdown",
   "id": "cd3bbe6f-c321-4b46-959d-0b8b3fae04a9",
   "metadata": {},
   "source": [
    "Q7: Explain uniform Distribution with an example."
   ]
  },
  {
   "cell_type": "markdown",
   "id": "8c0f00b4-157d-470c-b1fb-53f41d20e04f",
   "metadata": {},
   "source": [
    "Uniform distribution is a continuous probability distribution where every possible outcome has an equal probability of occurring. In other words, the probability density function of a uniform distribution is constant over a certain range, and zero outside that range.\n",
    "\n",
    "An example of a uniform distribution is the rolling of a fair six-sided die. The possible outcomes of rolling a die are the integers from 1 to 6, and each outcome has an equal probability of occurring. Thus, the probability density function of rolling a fair die is constant over the range [1, 6], and zero outside that range.\n",
    "\n"
   ]
  },
  {
   "cell_type": "code",
   "execution_count": null,
   "id": "d5ea80c1-997d-483d-a569-262209e9640d",
   "metadata": {},
   "outputs": [],
   "source": []
  },
  {
   "cell_type": "markdown",
   "id": "f01f8a69-613b-4dca-9152-1fe30ba4a535",
   "metadata": {},
   "source": [
    "Q8: What is the z score? State the importance of the z score."
   ]
  },
  {
   "cell_type": "markdown",
   "id": "9b14cb02-f332-4a8b-a799-146ee47cd0bd",
   "metadata": {},
   "source": [
    "The z-score, also known as the standard score, is a measure of how many standard deviations a data point is away from the mean of a normally distributed dataset. It is a dimensionless quantity that can be used to standardize different datasets with different means and standard deviations, allowing for easier comparison and analysis.\n",
    "\n",
    "The formula for calculating the z-score of a data point x is:\n",
    "\n",
    "z = (x - μ) / σ\n",
    "\n",
    "where μ is the mean of the dataset and σ is the standard deviation.\n",
    "\n",
    "The z-score is important because it allows us to determine the relative position of a data point within a dataset, regardless of the units of measurement or the scale of the dataset. A positive z-score indicates that a data point is above the mean of the dataset, while a negative z-score indicates that it is below the mean. A z-score of zero indicates that the data point is equal to the mean."
   ]
  },
  {
   "cell_type": "code",
   "execution_count": null,
   "id": "adbee031-d504-4459-9cc8-1934e3043de5",
   "metadata": {},
   "outputs": [],
   "source": []
  },
  {
   "cell_type": "markdown",
   "id": "e300dc2a-0e55-4f50-8daf-1e57596b1aed",
   "metadata": {},
   "source": [
    "Q9: What is Central Limit Theorem? State the significance of the Central Limit Theorem."
   ]
  },
  {
   "cell_type": "markdown",
   "id": "7a2bc5e6-e500-44db-b1ca-aee62810de04",
   "metadata": {},
   "source": [
    "The Central Limit Theorem (CLT) is a fundamental concept in probability theory and statistics that describes the behavior of sample means from any population. It states that, under certain conditions, the distribution of sample means will approach a normal distribution, regardless of the shape of the population distribution.\n",
    "\n"
   ]
  },
  {
   "cell_type": "code",
   "execution_count": null,
   "id": "e0ea09d9-339d-40c7-816c-e07f313b8225",
   "metadata": {},
   "outputs": [],
   "source": []
  },
  {
   "cell_type": "markdown",
   "id": "d5bf0f9a-416b-4e83-b40b-1e06c8d6601d",
   "metadata": {},
   "source": [
    "Q10: State the assumptions of the Central Limit Theorem."
   ]
  },
  {
   "cell_type": "markdown",
   "id": "f517743f-b8bf-4ce4-875d-3dcb760a4e90",
   "metadata": {},
   "source": [
    "Independence: The samples must be drawn independently of each other, meaning that the outcome of one sample does not influence the outcome of another sample.\n",
    "\n",
    "Sample size: The sample size must be large enough to ensure that the sample mean is normally distributed, regardless of the shape of the population distribution. A commonly accepted rule of thumb is that the sample size should be at least 30.\n",
    "\n",
    "Random Sampling: The samples must be drawn at random from the population, meaning that every member of the population has an equal chance of being included in the sample.\n",
    "\n",
    "Finite variance: The population from which the samples are drawn must have a finite variance, meaning that the variance of the population is not infinite."
   ]
  },
  {
   "cell_type": "code",
   "execution_count": null,
   "id": "68e42c83-726a-40ea-aee6-ca91bba46dfd",
   "metadata": {},
   "outputs": [],
   "source": []
  }
 ],
 "metadata": {
  "kernelspec": {
   "display_name": "Python 3 (ipykernel)",
   "language": "python",
   "name": "python3"
  },
  "language_info": {
   "codemirror_mode": {
    "name": "ipython",
    "version": 3
   },
   "file_extension": ".py",
   "mimetype": "text/x-python",
   "name": "python",
   "nbconvert_exporter": "python",
   "pygments_lexer": "ipython3",
   "version": "3.10.8"
  }
 },
 "nbformat": 4,
 "nbformat_minor": 5
}
